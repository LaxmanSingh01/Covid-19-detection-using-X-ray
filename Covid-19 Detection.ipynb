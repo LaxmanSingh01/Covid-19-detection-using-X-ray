{
 "cells": [
  {
   "cell_type": "code",
   "execution_count": 1,
   "id": "6196f853",
   "metadata": {},
   "outputs": [],
   "source": [
    "import pandas as pd\n",
    "import numpy as np\n",
    "from tensorflow.keras.layers import *\n",
    "from tensorflow.keras.models import *\n",
    "from tensorflow.keras.preprocessing import image\n",
    "import matplotlib.pyplot as plt"
   ]
  },
  {
   "cell_type": "code",
   "execution_count": 2,
   "id": "203b7762",
   "metadata": {},
   "outputs": [],
   "source": [
    "train_path=('E:/Project for Portfolio/Covid 19 identification using deep learning/CovidDataset/Train')\n",
    "test_path=('E:/Project for Portfolio/Covid 19 identification using deep learning/CovidDataset/Val')"
   ]
  },
  {
   "cell_type": "code",
   "execution_count": 3,
   "id": "fd8c3ef2",
   "metadata": {},
   "outputs": [],
   "source": [
    "model=Sequential()\n",
    "model.add(Conv2D(32,kernel_size=(3,3),activation='relu',input_shape=(224,224,3)))\n",
    "model.add(Conv2D(64,kernel_size=(3,3),activation='relu'))\n",
    "model.add(MaxPooling2D(pool_size=(2,2)))\n",
    "model.add(Dropout(0.20))\n",
    "\n",
    "model.add(Conv2D(64,kernel_size=(3,3),activation='relu'))\n",
    "model.add(MaxPooling2D(pool_size=(2,2)))\n",
    "model.add(Dropout(0.20))\n",
    "\n",
    "model.add(Conv2D(128,kernel_size=(3,3),activation='relu'))\n",
    "model.add(MaxPooling2D(pool_size=(2,2)))\n",
    "model.add(Dropout(0.20))\n",
    "\n",
    "model.add(Flatten())\n",
    "model.add(Dense(64,activation='relu'))\n",
    "model.add(Dropout(0.5))\n",
    "model.add(Dense(1,activation='sigmoid'))\n",
    "\n",
    "model.compile(loss='binary_crossentropy',optimizer='adam',metrics=['accuracy'])"
   ]
  },
  {
   "cell_type": "code",
   "execution_count": 4,
   "id": "9a47dbf1",
   "metadata": {},
   "outputs": [
    {
     "name": "stdout",
     "output_type": "stream",
     "text": [
      "Model: \"sequential\"\n",
      "_________________________________________________________________\n",
      "Layer (type)                 Output Shape              Param #   \n",
      "=================================================================\n",
      "conv2d (Conv2D)              (None, 222, 222, 32)      896       \n",
      "_________________________________________________________________\n",
      "conv2d_1 (Conv2D)            (None, 220, 220, 64)      18496     \n",
      "_________________________________________________________________\n",
      "max_pooling2d (MaxPooling2D) (None, 110, 110, 64)      0         \n",
      "_________________________________________________________________\n",
      "dropout (Dropout)            (None, 110, 110, 64)      0         \n",
      "_________________________________________________________________\n",
      "conv2d_2 (Conv2D)            (None, 108, 108, 64)      36928     \n",
      "_________________________________________________________________\n",
      "max_pooling2d_1 (MaxPooling2 (None, 54, 54, 64)        0         \n",
      "_________________________________________________________________\n",
      "dropout_1 (Dropout)          (None, 54, 54, 64)        0         \n",
      "_________________________________________________________________\n",
      "conv2d_3 (Conv2D)            (None, 52, 52, 128)       73856     \n",
      "_________________________________________________________________\n",
      "max_pooling2d_2 (MaxPooling2 (None, 26, 26, 128)       0         \n",
      "_________________________________________________________________\n",
      "dropout_2 (Dropout)          (None, 26, 26, 128)       0         \n",
      "_________________________________________________________________\n",
      "flatten (Flatten)            (None, 86528)             0         \n",
      "_________________________________________________________________\n",
      "dense (Dense)                (None, 64)                5537856   \n",
      "_________________________________________________________________\n",
      "dropout_3 (Dropout)          (None, 64)                0         \n",
      "_________________________________________________________________\n",
      "dense_1 (Dense)              (None, 1)                 65        \n",
      "=================================================================\n",
      "Total params: 5,668,097\n",
      "Trainable params: 5,668,097\n",
      "Non-trainable params: 0\n",
      "_________________________________________________________________\n"
     ]
    }
   ],
   "source": [
    "model.summary()"
   ]
  },
  {
   "cell_type": "code",
   "execution_count": 5,
   "id": "e842b25d",
   "metadata": {},
   "outputs": [],
   "source": [
    "# Train from scratch\n",
    "train_datagen = image.ImageDataGenerator(\n",
    "    rescale = 1./255,\n",
    "    shear_range = 0.2,\n",
    "    zoom_range = 0.2,\n",
    "    horizontal_flip = True,\n",
    ")\n",
    "\n",
    "test_datagen = image.ImageDataGenerator(rescale=1./255)"
   ]
  },
  {
   "cell_type": "code",
   "execution_count": 6,
   "id": "1f112e74",
   "metadata": {},
   "outputs": [
    {
     "name": "stdout",
     "output_type": "stream",
     "text": [
      "Found 224 images belonging to 2 classes.\n"
     ]
    }
   ],
   "source": [
    "train_dataset = train_datagen.flow_from_directory(\n",
    "    train_path,\n",
    "    target_size = (224,224),\n",
    "    batch_size = 32,\n",
    "    class_mode = 'binary')"
   ]
  },
  {
   "cell_type": "code",
   "execution_count": 7,
   "id": "6b51b025",
   "metadata": {},
   "outputs": [
    {
     "data": {
      "text/plain": [
       "{'Covid': 0, 'Normal': 1}"
      ]
     },
     "execution_count": 7,
     "metadata": {},
     "output_type": "execute_result"
    }
   ],
   "source": [
    "train_dataset.class_indices"
   ]
  },
  {
   "cell_type": "code",
   "execution_count": 8,
   "id": "cde99433",
   "metadata": {},
   "outputs": [
    {
     "name": "stdout",
     "output_type": "stream",
     "text": [
      "Found 60 images belonging to 2 classes.\n"
     ]
    }
   ],
   "source": [
    "test_dataset = test_datagen.flow_from_directory(\n",
    "    test_path,\n",
    "    target_size = (224,224),\n",
    "    batch_size = 32,\n",
    "    class_mode = 'binary')"
   ]
  },
  {
   "cell_type": "code",
   "execution_count": 9,
   "id": "2481e427",
   "metadata": {},
   "outputs": [],
   "source": [
    "batch_size=32"
   ]
  },
  {
   "cell_type": "code",
   "execution_count": 11,
   "id": "5ffd51cd",
   "metadata": {},
   "outputs": [
    {
     "name": "stdout",
     "output_type": "stream",
     "text": [
      "Epoch 1/10\n",
      "7/7 [==============================] - 85s 12s/step - loss: 0.9927 - accuracy: 0.4821 - val_loss: 0.6787 - val_accuracy: 0.9000\n",
      "Epoch 2/10\n",
      "7/7 [==============================] - 56s 8s/step - loss: 0.6461 - accuracy: 0.6741 - val_loss: 0.5644 - val_accuracy: 0.9167\n",
      "Epoch 3/10\n",
      "7/7 [==============================] - 58s 8s/step - loss: 0.5051 - accuracy: 0.7589 - val_loss: 0.4261 - val_accuracy: 0.9167\n",
      "Epoch 4/10\n",
      "7/7 [==============================] - 57s 8s/step - loss: 0.3472 - accuracy: 0.8750 - val_loss: 0.1718 - val_accuracy: 0.9500\n",
      "Epoch 5/10\n",
      "7/7 [==============================] - 60s 9s/step - loss: 0.2118 - accuracy: 0.9062 - val_loss: 0.1125 - val_accuracy: 0.9500\n",
      "Epoch 6/10\n",
      "7/7 [==============================] - 59s 8s/step - loss: 0.2583 - accuracy: 0.9286 - val_loss: 0.1410 - val_accuracy: 0.9667\n",
      "Epoch 7/10\n",
      "7/7 [==============================] - 57s 8s/step - loss: 0.1394 - accuracy: 0.9554 - val_loss: 0.0928 - val_accuracy: 0.9667\n",
      "Epoch 8/10\n",
      "7/7 [==============================] - 61s 9s/step - loss: 0.1288 - accuracy: 0.9420 - val_loss: 0.0872 - val_accuracy: 0.9667\n",
      "Epoch 9/10\n",
      "7/7 [==============================] - 60s 8s/step - loss: 0.0560 - accuracy: 0.9777 - val_loss: 0.0639 - val_accuracy: 0.9667\n",
      "Epoch 10/10\n",
      "7/7 [==============================] - 59s 8s/step - loss: 0.1305 - accuracy: 0.9732 - val_loss: 0.0897 - val_accuracy: 0.9500\n"
     ]
    }
   ],
   "source": [
    "hist = model.fit(\n",
    "    train_dataset,\n",
    "    epochs = 10,\n",
    "    validation_data = test_dataset\n",
    ")"
   ]
  },
  {
   "cell_type": "code",
   "execution_count": 12,
   "id": "01b8af54",
   "metadata": {},
   "outputs": [],
   "source": [
    "model.save('model.h5')"
   ]
  },
  {
   "cell_type": "code",
   "execution_count": 14,
   "id": "fce0edd2",
   "metadata": {},
   "outputs": [],
   "source": [
    "from tensorflow.keras.preprocessing.image import load_img"
   ]
  },
  {
   "cell_type": "code",
   "execution_count": 40,
   "id": "38a0ab95",
   "metadata": {},
   "outputs": [],
   "source": [
    "img=image.load_img('E:/Project for Portfolio/Covid 19 identification using deep learning/CovidDataset/Val/Covid/353889E0-A1E8-4F9E-A0B8-F24F36BCFBFB.jpeg',target_size=(224,224))"
   ]
  },
  {
   "cell_type": "code",
   "execution_count": 41,
   "id": "b16c622c",
   "metadata": {},
   "outputs": [
    {
     "data": {
      "text/plain": [
       "array([[[224., 224., 224.],\n",
       "        [  0.,   0.,   0.],\n",
       "        [  0.,   0.,   0.],\n",
       "        ...,\n",
       "        [  0.,   0.,   0.],\n",
       "        [  2.,   2.,   2.],\n",
       "        [ 16.,  16.,  16.]],\n",
       "\n",
       "       [[  0.,   0.,   0.],\n",
       "        [  0.,   0.,   0.],\n",
       "        [  0.,   0.,   0.],\n",
       "        ...,\n",
       "        [  0.,   0.,   0.],\n",
       "        [  1.,   1.,   1.],\n",
       "        [ 11.,  11.,  11.]],\n",
       "\n",
       "       [[  0.,   0.,   0.],\n",
       "        [  0.,   0.,   0.],\n",
       "        [  0.,   0.,   0.],\n",
       "        ...,\n",
       "        [  0.,   0.,   0.],\n",
       "        [  3.,   3.,   3.],\n",
       "        [ 14.,  14.,  14.]],\n",
       "\n",
       "       ...,\n",
       "\n",
       "       [[ 58.,  58.,  58.],\n",
       "        [ 62.,  62.,  62.],\n",
       "        [ 78.,  78.,  78.],\n",
       "        ...,\n",
       "        [  1.,   1.,   1.],\n",
       "        [  4.,   4.,   4.],\n",
       "        [ 13.,  13.,  13.]],\n",
       "\n",
       "       [[ 80.,  80.,  80.],\n",
       "        [ 68.,  68.,  68.],\n",
       "        [ 83.,  83.,  83.],\n",
       "        ...,\n",
       "        [  1.,   1.,   1.],\n",
       "        [ 15.,  15.,  15.],\n",
       "        [ 20.,  20.,  20.]],\n",
       "\n",
       "       [[106., 106., 106.],\n",
       "        [ 89.,  89.,  89.],\n",
       "        [ 94.,  94.,  94.],\n",
       "        ...,\n",
       "        [  0.,   0.,   0.],\n",
       "        [  7.,   7.,   7.],\n",
       "        [226., 226., 226.]]], dtype=float32)"
      ]
     },
     "execution_count": 41,
     "metadata": {},
     "output_type": "execute_result"
    }
   ],
   "source": [
    "x=image.img_to_array(img)\n",
    "x"
   ]
  },
  {
   "cell_type": "code",
   "execution_count": 42,
   "id": "53bdfb0a",
   "metadata": {},
   "outputs": [],
   "source": [
    "x=x/255"
   ]
  },
  {
   "cell_type": "code",
   "execution_count": 43,
   "id": "d875172c",
   "metadata": {},
   "outputs": [],
   "source": [
    "x=np.expand_dims(x,axis=0)"
   ]
  },
  {
   "cell_type": "code",
   "execution_count": 44,
   "id": "487037cb",
   "metadata": {},
   "outputs": [],
   "source": [
    "pred=model.predict(x)"
   ]
  },
  {
   "cell_type": "code",
   "execution_count": 45,
   "id": "861ca15a",
   "metadata": {},
   "outputs": [
    {
     "data": {
      "text/plain": [
       "0.0026977062"
      ]
     },
     "execution_count": 45,
     "metadata": {},
     "output_type": "execute_result"
    }
   ],
   "source": [
    "pred[0][0]"
   ]
  },
  {
   "cell_type": "code",
   "execution_count": 46,
   "id": "644ee015",
   "metadata": {},
   "outputs": [
    {
     "name": "stdout",
     "output_type": "stream",
     "text": [
      "The Patient is Corona Postive\n"
     ]
    }
   ],
   "source": [
    "if pred[0][0] < 0.5:\n",
    "    print('The Patient is Corona Postive')\n",
    "else:\n",
    "    print('The Patient is normal')"
   ]
  }
 ],
 "metadata": {
  "kernelspec": {
   "display_name": "Python 3",
   "language": "python",
   "name": "python3"
  },
  "language_info": {
   "codemirror_mode": {
    "name": "ipython",
    "version": 3
   },
   "file_extension": ".py",
   "mimetype": "text/x-python",
   "name": "python",
   "nbconvert_exporter": "python",
   "pygments_lexer": "ipython3",
   "version": "3.9.7"
  }
 },
 "nbformat": 4,
 "nbformat_minor": 5
}
